import numpy as np
import pandas as pd
import matplotlib.pyplot as plt

df = pd.read_csv('kc_house_data.csv')
df
